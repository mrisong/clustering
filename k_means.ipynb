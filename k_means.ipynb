{
 "cells": [
  {
   "cell_type": "code",
   "execution_count": 68,
   "metadata": {},
   "outputs": [],
   "source": [
    "# Import files\n",
    "import numpy as np\n",
    "import pandas as pd\n",
    "import matplotlib.pyplot as plt\n",
    "\n",
    "# import representativeClustering as rc"
   ]
  },
  {
   "cell_type": "code",
   "execution_count": 69,
   "metadata": {},
   "outputs": [],
   "source": [
    "# Load the data file\n",
    "dataset = pd.read_csv(\"dataset\", header=None, delimiter= ' ')"
   ]
  },
  {
   "cell_type": "code",
   "execution_count": 70,
   "metadata": {},
   "outputs": [],
   "source": [
    "# dataset.head()"
   ]
  },
  {
   "cell_type": "code",
   "execution_count": 71,
   "metadata": {},
   "outputs": [],
   "source": [
    "words = dataset[0]\n",
    "features = dataset.drop(0, 'columns')\n",
    "features = features.to_numpy()"
   ]
  },
  {
   "cell_type": "code",
   "execution_count": 72,
   "metadata": {},
   "outputs": [],
   "source": [
    "def distance(x, y):\n",
    "    return np.linalg.norm(x - y)"
   ]
  },
  {
   "cell_type": "code",
   "execution_count": 73,
   "metadata": {},
   "outputs": [],
   "source": [
    "def assign(features, clusterRepresentatives):\n",
    "\n",
    "    '''\n",
    "    For each feature calculate distance from each cluster representative.\n",
    "    Assign this feature the representative which is closest to it\n",
    "    '''\n",
    "    # The index numbers of clusters array corresponds to the object\n",
    "    # at same index number in the feature matrix\n",
    "    # This array shall contain information about the cluster \n",
    "    # assigned to the corresponding object in the feature matrix\n",
    "    clusters = np.zeros((len(features)))\n",
    "\n",
    "    if clusterRepresentatives.ndim == 1:\n",
    "        clusterRepresentatives = np.array([clusterRepresentatives])\n",
    "\n",
    "    for fIndex in range(len(features)):\n",
    "\n",
    "        # Calculate distance of this feature from each cluster representative\n",
    "        clusterDistance = [distance(features[fIndex], c) for c in clusterRepresentatives]\n",
    "\n",
    "        # Find the index number corresponding to the minimum distance\n",
    "        # This index number also corresponds to the closest cluster representative\n",
    "        # Thus, the array 'clusters' contain the index number of the cluster \n",
    "        # representative which is closest to this object\n",
    "        clusters[fIndex] = np.argmin(clusterDistance)\n",
    "\n",
    "    # print(clusters[:5])\n",
    "    # print('abcdef')\n",
    "        \n",
    "    return clusters"
   ]
  },
  {
   "cell_type": "code",
   "execution_count": 74,
   "metadata": {},
   "outputs": [],
   "source": [
    "def optimise(features, clusters, clusterRepresentatives):\n",
    "\n",
    "    '''\n",
    "    For each cluster, find mean of features of all the object\n",
    "    which are assigned to it. This mean shall be designated\n",
    "    as the new cluster representative for that cluster\n",
    "    Return the array of the new cluster representatives\n",
    "    '''\n",
    "\n",
    "    for cIndex in range(len(clusterRepresentatives)):\n",
    "        \n",
    "        # Find the objects which are assigned to the current cluster\n",
    "        # This matrix contain feature values of the objects in the\n",
    "        # current cluster\n",
    "        objectsInThisCluster = features[clusters == cIndex]\n",
    "\n",
    "        # Find row-vise mean of all these objects which are assigned\n",
    "        # to the current cluster\n",
    "        # This gives, for each feature, mean over all the objects in this cluster\n",
    "        clusterRepresentatives[cIndex] = np.mean(objectsInThisCluster, axis = 0)\n",
    "    \n",
    "\n",
    "    return clusterRepresentatives"
   ]
  },
  {
   "cell_type": "code",
   "execution_count": 75,
   "metadata": {},
   "outputs": [],
   "source": [
    "# def clustering(features, clusterRepresentatives):\n",
    "\n",
    "#     # Assignment Phase\n",
    "#     # Assign cluster representative to each object (i.e., each row of features)\n",
    "#     clusters = assign(features, clusterRepresentatives)\n",
    "    \n",
    "    \n",
    "#     # Optimisation Phase\n",
    "#     # Compute new representative as mean of the current clusters\n",
    "#     clusterRepresentatives = optimise(features, clusters, clusterRepresentatives)\n",
    "\n",
    "#     return clusters, clusterRepresentatives\n"
   ]
  },
  {
   "cell_type": "code",
   "execution_count": 76,
   "metadata": {},
   "outputs": [],
   "source": [
    "def clustering(features, clusterRepresentatives):\n",
    "\n",
    "    # Assignment Phase\n",
    "    # Assign cluster representative to each object (i.e., each row of features)\n",
    "    clusters = assign(features, clusterRepresentatives)\n",
    "\n",
    "    # This is a safety termination criteria, incase the code takes\n",
    "    # too long to reach a optimum\n",
    "    count = 0\n",
    "\n",
    "    # Repeat till the termination criteria is met\n",
    "    while True:\n",
    "\n",
    "        # Optimisation Phase\n",
    "        # Compute new representative as mean of the current clusters\n",
    "        updatedclusterRepresentatives = optimise(features, clusters, clusterRepresentatives)\n",
    "\n",
    "        # Assignment Phase\n",
    "        # Assign cluster representative to each object (i.e., each row of features)\n",
    "        updatedClusters = assign(features, updatedclusterRepresentatives)\n",
    "\n",
    "        # Termination Criteria:\n",
    "        # Repeat till no object is assigned a new clusters\n",
    "        # That is, STOP when the older cluster and the updated cluster are equal\n",
    "        # REPEAT if the cluster assignment of each object stays same\n",
    "        if (clusters == updatedClusters).all():\n",
    "            break\n",
    "        else:\n",
    "            # Store the updated clusters for checking the termination criteria\n",
    "            # in the next loop\n",
    "            clusters = updatedClusters\n",
    "        \n",
    "        if count == 100:\n",
    "            break\n",
    "        \n",
    "        count += 1\n",
    "\n",
    "    return clusters, clusterRepresentatives"
   ]
  },
  {
   "cell_type": "code",
   "execution_count": 77,
   "metadata": {},
   "outputs": [],
   "source": [
    "def k_means(features, k):\n",
    "\n",
    "    # Initialisation Phase\n",
    "    np.random.seed(42)\n",
    "    initialRandomObjects = np.random.choice(range(features.shape[0]), size=k)\n",
    "\n",
    "    # Choose initial cluster representatives as randomly chosen objects from the dataset\n",
    "    initialRepresentatives = features[initialRandomObjects]\n",
    "\n",
    "    # Perform Clustering based on the inital representatives\n",
    "    return clustering(features, initialRepresentatives)"
   ]
  },
  {
   "cell_type": "code",
   "execution_count": 78,
   "metadata": {},
   "outputs": [],
   "source": [
    "def totalClusterDistance(object, clusterObjects):\n",
    "    # Calculate the total sum of distances between the 'object' and all other \n",
    "    # objects in the 'clusterObjects'\n",
    "\n",
    "\n",
    "    # Initialise sum of distances from the object:\n",
    "    sumOfObjectDistances = 0\n",
    "\n",
    "    # Calculate the distance for each object in the given cluster\n",
    "    # and add it to the previous sum of object distances\n",
    "    for c in clusterObjects:\n",
    "        sumOfObjectDistances += distance(object, c)\n",
    "    \n",
    "    # Return the sum of distances\n",
    "    return sumOfObjectDistances"
   ]
  },
  {
   "cell_type": "code",
   "execution_count": 79,
   "metadata": {},
   "outputs": [],
   "source": [
    "def silhouetteCoefficient(dataset, noOfClusters, clusters):\n",
    "    \n",
    "    # Initialise the required parameters\n",
    "\n",
    "    # 's' is an array of silhoutte coefficient\n",
    "    # Values of all these array at a given index number corresponds to\n",
    "    # the object in the dataset at the same index number\n",
    "    silhoutte = np.zeros((len(clusters)))\n",
    "    \n",
    "    # Calculate 'a' and 'b' for each object in the datset\n",
    "    for i in range(len(clusters)):\n",
    "\n",
    "        # For each object in the datset, calculate 'a' and 'b', where\n",
    "        # 'a' is the mean distances between the object and all other points within its cluster\n",
    "        # 'b' is the mean distances between the object and all other points in the nearest cluster\n",
    "\n",
    "        # Extract all the data points within the same cluster\n",
    "        # in which the current object belongs\n",
    "        clusterObjects = dataset[clusters == clusters[i]]\n",
    "\n",
    "        # Calculate number of objects in the given cluster;\n",
    "        # It is required to calculate mean in the further steps\n",
    "        noOfObjectsInCluster = len(clusterObjects)\n",
    "\n",
    "        # Silhoutte Coefficient is defined as '0', if the cluster of current\n",
    "        # object contains just one object\n",
    "        if noOfObjectsInCluster == 1:\n",
    "            silhoutte[i] = 0\n",
    "\n",
    "            # Since the silhoutte coefficient of current object is now defined\n",
    "            # as '0', further steps can be skipped, and we can continue to \n",
    "            # the next object\n",
    "            continue\n",
    "\n",
    "        # Calculate 'a' between the current object and objects within its cluster\n",
    "        a = totalClusterDistance(dataset[i], clusterObjects) / (noOfObjectsInCluster - 1)\n",
    "        \n",
    "        # Following loop is to calculate 'b'\n",
    "        # Initialise next nearest cluster mean\n",
    "        # This value shall be used to compare the mean distance from \n",
    "        # other clusters\n",
    "        # Initial value is assigned 'infinity', sincee the nearest cluster \n",
    "        # distance is unknown\n",
    "        nextNearestClusterMean = np.inf\n",
    "\n",
    "        for k in range(noOfClusters):\n",
    "\n",
    "            # Further operations in this loop are  required only if a cluster\n",
    "            # is not the one in which the current object lies\n",
    "            if k != clusters[i]:\n",
    "\n",
    "                # Extract all the data points from the cluster\n",
    "                # in which the current object do not belongs\n",
    "                otherclusterObjects = dataset[clusters == clusters[k]]\n",
    "\n",
    "                # Calculate number of objects in this other cluster;\n",
    "                # It is required to calculate mean in the further steps\n",
    "                noOfObjectsInOtherCluster = len(otherclusterObjects)\n",
    "\n",
    "                # Find the mean cluster distance from the objects in \n",
    "                # this other cluster\n",
    "                otherClusterMeans = totalClusterDistance(dataset[i], otherclusterObjects) / noOfObjectsInOtherCluster\n",
    "\n",
    "                # Store this mean distance value, if it less than previously \n",
    "                # stored mean distance value\n",
    "                # This now becomes the mean distance to the next nearest cluster\n",
    "                if nextNearestClusterMean > otherClusterMeans:\n",
    "                    nextNearestClusterMean = otherClusterMeans\n",
    "        \n",
    "        # After evaluating all the clusters, assign the lowest mean value\n",
    "        # as 'b'\n",
    "        # Thus, 'b' becomes the mean distance of the current object to the\n",
    "        # next nearest cluster\n",
    "        b = nextNearestClusterMean\n",
    "        \n",
    "        # Calculate Silhouette coefficient using 'a' and 'b' calculated above\n",
    "        # for the current object\n",
    "        silhoutte[i] = (b - a) / np.max((a, b))\n",
    "    \n",
    "    return silhoutte"
   ]
  },
  {
   "cell_type": "code",
   "execution_count": 80,
   "metadata": {},
   "outputs": [
    {
     "name": "stdout",
     "output_type": "stream",
     "text": [
      "k = 2 clusters are formed with average silhouette coefficient as 0.09472573622936122\n",
      "k = 3 clusters are formed with average silhouette coefficient as 0.06379081754865393\n",
      "k = 4 clusters are formed with average silhouette coefficient as 0.13557553263638242\n",
      "k = 5 clusters are formed with average silhouette coefficient as 0.14463713307196327\n",
      "k = 6 clusters are formed with average silhouette coefficient as 0.1511790097007154\n"
     ]
    },
    {
     "name": "stderr",
     "output_type": "stream",
     "text": [
      "c:\\Users\\songa\\AppData\\Local\\Programs\\PythonCodingPack\\lib\\site-packages\\numpy\\core\\fromnumeric.py:3372: RuntimeWarning: Mean of empty slice.\n",
      "  return _methods._mean(a, axis=axis, dtype=dtype,\n",
      "c:\\Users\\songa\\AppData\\Local\\Programs\\PythonCodingPack\\lib\\site-packages\\numpy\\core\\_methods.py:162: RuntimeWarning: invalid value encountered in true_divide\n",
      "  ret = um.true_divide(\n"
     ]
    },
    {
     "name": "stdout",
     "output_type": "stream",
     "text": [
      "k = 7 clusters are formed with average silhouette coefficient as -0.003058103975535169\n",
      "k = 8 clusters are formed with average silhouette coefficient as -0.003058103975535169\n",
      "k = 9 clusters are formed with average silhouette coefficient as -0.003058103975535169\n"
     ]
    },
    {
     "data": {
      "text/plain": [
       "[<matplotlib.lines.Line2D at 0x1fc8378b280>]"
      ]
     },
     "execution_count": 80,
     "metadata": {},
     "output_type": "execute_result"
    },
    {
     "data": {
      "image/png": "[encoded data removed]",
      "text/plain": [
       "<Figure size 432x288 with 1 Axes>"
      ]
     },
     "metadata": {
      "needs_background": "light"
     },
     "output_type": "display_data"
    }
   ],
   "source": [
    "ks = range(2,10)\n",
    "# ks = [2]\n",
    "datasetSilihouette = np.zeros(len(ks))\n",
    "# distMat = distanceMatrix(features)\n",
    "i = 0\n",
    "for k in ks:\n",
    "    clusters, _ = k_means(features, k)\n",
    "    \n",
    "    s = silhouetteCoefficient(features, k, clusters)\n",
    "    # s = silhouette(features, clusterRepresentatives, clusters)\n",
    "    datasetSilihouette[i] = np.mean(s)\n",
    "    print(f\"k = {k} clusters are formed with average silhouette coefficient as {datasetSilihouette[i]}\")\n",
    "    i += 1\n",
    "\n",
    "plt.plot(ks, datasetSilihouette)"
   ]
  }
 ],
 "metadata": {
  "kernelspec": {
   "display_name": "Python 3",
   "language": "python",
   "name": "python3"
  },
  "language_info": {
   "codemirror_mode": {
    "name": "ipython",
    "version": 3
   },
   "file_extension": ".py",
   "mimetype": "text/x-python",
   "name": "python",
   "nbconvert_exporter": "python",
   "pygments_lexer": "ipython3",
   "version": "3.8.5"
  },
  "orig_nbformat": 4
 },
 "nbformat": 4,
 "nbformat_minor": 2
}
