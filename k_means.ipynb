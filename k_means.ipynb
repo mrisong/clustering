{
 "cells": [
  {
   "cell_type": "code",
   "execution_count": 10,
   "metadata": {},
   "outputs": [],
   "source": [
    "# Import files\n",
    "import numpy as np\n",
    "import pandas as pd\n",
    "import matplotlib.pyplot as plt\n",
    "import representativeClustering as rc"
   ]
  },
  {
   "cell_type": "code",
   "execution_count": 11,
   "metadata": {},
   "outputs": [],
   "source": [
    "# Load the data file\n",
    "dataset = pd.read_csv(\"dataset\", header=None, delimiter= ' ')"
   ]
  },
  {
   "cell_type": "code",
   "execution_count": 12,
   "metadata": {},
   "outputs": [],
   "source": [
    "# dataset.head()"
   ]
  },
  {
   "cell_type": "code",
   "execution_count": 13,
   "metadata": {},
   "outputs": [],
   "source": [
    "words = dataset[0]\n",
    "features = dataset.drop(0, 'columns')\n",
    "features = features.to_numpy()"
   ]
  },
  {
   "cell_type": "code",
   "execution_count": 14,
   "metadata": {},
   "outputs": [],
   "source": [
    "# def distance(x, y):\n",
    "#     return np.linalg.norm(x - y)"
   ]
  },
  {
   "cell_type": "code",
   "execution_count": 15,
   "metadata": {},
   "outputs": [],
   "source": [
    "# def assign(features, clusterRepresentatives):\n",
    "\n",
    "#     '''\n",
    "#     For each feature calculate distance from each cluster representative.\n",
    "#     Assign this feature the representative which is closest to it\n",
    "#     '''\n",
    "#     # The index numbers of clusters array corresponds to the object\n",
    "#     # at same index number in the feature matrix\n",
    "#     # This array shall contain information about the cluster \n",
    "#     # assigned to the corresponding object in the feature matrix\n",
    "#     # clusters = np.zeros((len(features), 1))\n",
    "#     clusters = np.zeros((len(features)))\n",
    "\n",
    "#     for fIndex in range(len(features)):\n",
    "\n",
    "#         # Calculate distance of this feature from each cluster representative\n",
    "#         clusterDistance = [distance(features[fIndex], c) for c in clusterRepresentatives]\n",
    "\n",
    "#         # Find the index number corresponding to the minimum distance\n",
    "#         # This index number also corresponds to the closest cluster representative\n",
    "#         # Thus, the array 'clusters' contain the index number of the cluster \n",
    "#         # representative which is closest to this object\n",
    "#         clusters[fIndex] = np.argmin(clusterDistance)\n",
    "\n",
    "        \n",
    "#     return clusters"
   ]
  },
  {
   "cell_type": "code",
   "execution_count": 16,
   "metadata": {},
   "outputs": [],
   "source": [
    "# def optimise(features, clusters, clusterRepresentatives):\n",
    "\n",
    "#     '''\n",
    "#     For each cluster, find mean of features of all the object\n",
    "#     which are assigned to it. This mean shall be designated\n",
    "#     as the new cluster representative for that cluster\n",
    "#     Return the array of the new cluster representatives\n",
    "#     '''\n",
    "\n",
    "#     for cIndex in range(len(clusterRepresentatives)):\n",
    "        \n",
    "#         # Find the objects which are assigned to the current cluster\n",
    "#         # This matrix contain feature values of the objects in the\n",
    "#         # current cluster\n",
    "#         objectsInThisCluster = features[clusters == cIndex]\n",
    "\n",
    "#         # Find row-vise mean of all these objects which are assigned\n",
    "#         # to the current cluster\n",
    "#         # This gives, for each feature, mean over all the objects in this cluster\n",
    "#         clusterRepresentatives[cIndex] = np.mean(objectsInThisCluster, axis = 0)\n",
    "    \n",
    "\n",
    "#     return clusterRepresentatives"
   ]
  },
  {
   "cell_type": "code",
   "execution_count": 17,
   "metadata": {},
   "outputs": [],
   "source": [
    "# def k_means(features, k):\n",
    "\n",
    "#     # Initialisation Phase\n",
    "#     np.random.seed(42)\n",
    "#     initialRandomObjects = np.random.choice(range(features.shape[0]), size=k)\n",
    "\n",
    "#     # Choose initial cluster representatives as randomly chosen objects from the dataset\n",
    "#     clusterRepresentatives = features[initialRandomObjects]\n",
    "    \n",
    "\n",
    "#     # Assignment Phase\n",
    "#     # Assign cluster representative to each object (i.e., each row of features)\n",
    "#     clusters = assign(features, clusterRepresentatives)\n",
    "    \n",
    "#     # Optimisation Phase\n",
    "#     # Compute new representative as mean of the current clusters\n",
    "#     clusterRepresentatives = optimise(features, clusters, clusterRepresentatives)\n",
    "    \n",
    "    "
   ]
  },
  {
   "cell_type": "code",
   "execution_count": 18,
   "metadata": {},
   "outputs": [
    {
     "data": {
      "text/plain": [
       "(array([2., 2., 0., 2., 1., 2., 2., 3., 2., 3., 2., 2., 2., 2., 2., 3., 2.,\n",
       "        2., 3., 2., 3., 2., 2., 2., 2., 1., 1., 1., 2., 3., 1., 1., 2., 2.,\n",
       "        2., 3., 1., 2., 2., 1., 2., 2., 2., 1., 2., 1., 2., 2., 3., 3., 2.,\n",
       "        2., 2., 2., 2., 3., 2., 2., 3., 0., 2., 2., 2., 2., 2., 0., 2., 2.,\n",
       "        2., 2., 2., 3., 2., 2., 2., 2., 2., 2., 3., 2., 2., 0., 2., 2., 0.,\n",
       "        2., 2., 2., 2., 0., 2., 2., 2., 2., 2., 0., 2., 2., 0., 0., 2., 0.,\n",
       "        0., 2., 0., 2., 2., 2., 2., 2., 2., 2., 0., 2., 3., 3., 0., 2., 0.,\n",
       "        0., 0., 2., 0., 2., 2., 2., 2., 2., 2., 2., 2., 2., 2., 2., 2., 0.,\n",
       "        0., 0., 2., 2., 2., 2., 2., 2., 2., 2., 2., 2., 2., 2., 2., 3., 2.,\n",
       "        2., 2., 2., 2., 2., 2., 0., 2., 2., 3., 0., 2., 2., 2., 2., 2., 2.,\n",
       "        2., 0., 3., 3., 2., 0., 2., 2., 2., 0., 2., 3., 0., 2., 0., 2., 2.,\n",
       "        2., 0., 0., 2., 2., 2., 2., 2., 2., 2., 2., 0., 2., 2., 2., 3., 2.,\n",
       "        2., 2., 2., 2., 2., 2., 2., 3., 1., 1., 3., 1., 3., 1., 1., 1., 1.,\n",
       "        3., 1., 1., 1., 1., 1., 1., 1., 1., 1., 2., 1., 1., 1., 1., 1., 1.,\n",
       "        1., 1., 2., 1., 1., 1., 1., 1., 1., 1., 1., 1., 1., 1., 3., 1., 1.,\n",
       "        1., 1., 1., 1., 1., 1., 1., 1., 3., 1., 1., 1., 1., 1., 1., 1., 1.,\n",
       "        1., 1., 1., 1., 1., 1., 1., 1., 1., 1., 1., 1., 1., 1., 1., 1., 1.,\n",
       "        1., 1., 1., 1., 1., 1., 1., 1., 1., 1., 1., 1., 1., 1., 1., 1., 1.,\n",
       "        1., 1., 1., 1., 1., 1., 1., 1., 1., 2., 1., 1., 1., 1., 1., 1., 1.,\n",
       "        1., 1., 1., 1.]),\n",
       " array([[ 0.26222735,  0.26589348, -0.25430655, ..., -0.0449618 ,\n",
       "         -0.05740323,  0.37378765],\n",
       "        [-0.16794197, -0.11136108, -0.04032011, ..., -0.25798077,\n",
       "         -0.10800028,  0.1066463 ],\n",
       "        [ 0.30238737,  0.21241108,  0.06718449, ...,  0.05408181,\n",
       "          0.13205227,  0.21612527],\n",
       "        [ 0.11133085,  0.03771342,  0.00727638, ..., -0.18149407,\n",
       "          0.03082399,  0.13833059]]))"
      ]
     },
     "execution_count": 18,
     "metadata": {},
     "output_type": "execute_result"
    }
   ],
   "source": [
    "# rc.k_means(features, 4)"
   ]
  }
 ],
 "metadata": {
  "kernelspec": {
   "display_name": "Python 3",
   "language": "python",
   "name": "python3"
  },
  "language_info": {
   "codemirror_mode": {
    "name": "ipython",
    "version": 3
   },
   "file_extension": ".py",
   "mimetype": "text/x-python",
   "name": "python",
   "nbconvert_exporter": "python",
   "pygments_lexer": "ipython3",
   "version": "3.8.5"
  },
  "orig_nbformat": 4
 },
 "nbformat": 4,
 "nbformat_minor": 2
}
