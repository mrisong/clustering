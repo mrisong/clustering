{
 "cells": [
  {
   "cell_type": "code",
   "execution_count": 10,
   "metadata": {},
   "outputs": [],
   "source": [
    "# Import files\n",
    "import numpy as np\n",
    "import pandas as pd\n",
    "import matplotlib.pyplot as plt\n",
    "# import representativeClustering as rc"
   ]
  },
  {
   "cell_type": "code",
   "execution_count": 11,
   "metadata": {},
   "outputs": [],
   "source": [
    "# Load the data file\n",
    "dataset = pd.read_csv(\"dataset\", header=None, delimiter= ' ')"
   ]
  },
  {
   "cell_type": "code",
   "execution_count": 12,
   "metadata": {},
   "outputs": [],
   "source": [
    "words = dataset[0]\n",
    "features = dataset.drop(0, 'columns')\n",
    "features = features.to_numpy()"
   ]
  },
  {
   "cell_type": "code",
   "execution_count": 13,
   "metadata": {},
   "outputs": [],
   "source": [
    "def distance(x, y):\n",
    "    return np.linalg.norm(x - y)"
   ]
  },
  {
   "cell_type": "code",
   "execution_count": 14,
   "metadata": {},
   "outputs": [],
   "source": [
    "def assign(features, clusterRepresentatives):\n",
    "\n",
    "    '''\n",
    "    For each feature calculate distance from each cluster representative.\n",
    "    Assign this feature the representative which is closest to it\n",
    "    '''\n",
    "    # The index numbers of clusters array corresponds to the object\n",
    "    # at same index number in the feature matrix\n",
    "    # This array shall contain information about the cluster \n",
    "    # assigned to the corresponding object in the feature matrix\n",
    "    clusters = np.zeros((len(features)))\n",
    "\n",
    "    if clusterRepresentatives.ndim == 1:\n",
    "        clusterRepresentatives = np.array([clusterRepresentatives])\n",
    "\n",
    "    for fIndex in range(len(features)):\n",
    "\n",
    "        # Calculate distance of this feature from each cluster representative\n",
    "        clusterDistance = [distance(features[fIndex], c) for c in clusterRepresentatives]\n",
    "\n",
    "        # Find the index number corresponding to the minimum distance\n",
    "        # This index number also corresponds to the closest cluster representative\n",
    "        # Thus, the array 'clusters' contain the index number of the cluster \n",
    "        # representative which is closest to this object\n",
    "        clusters[fIndex] = np.argmin(clusterDistance)\n",
    "\n",
    "    # print(clusters[:5])\n",
    "    # print('abcdef')\n",
    "        \n",
    "    return clusters\n"
   ]
  },
  {
   "cell_type": "code",
   "execution_count": 15,
   "metadata": {},
   "outputs": [],
   "source": [
    "def optimise(features, clusters, clusterRepresentatives):\n",
    "\n",
    "    '''\n",
    "    For each cluster, find mean of features of all the object\n",
    "    which are assigned to it. This mean shall be designated\n",
    "    as the new cluster representative for that cluster\n",
    "    Return the array of the new cluster representatives\n",
    "    '''\n",
    "\n",
    "    for cIndex in range(len(clusterRepresentatives)):\n",
    "        \n",
    "        # Find the objects which are assigned to the current cluster\n",
    "        # This matrix contain feature values of the objects in the\n",
    "        # current cluster\n",
    "        objectsInThisCluster = features[clusters == cIndex]\n",
    "\n",
    "        # Find row-vise mean of all these objects which are assigned\n",
    "        # to the current cluster\n",
    "        # This gives, for each feature, mean over all the objects in this cluster\n",
    "        clusterRepresentatives[cIndex] = np.mean(objectsInThisCluster, axis = 0)\n",
    "    \n",
    "\n",
    "    return clusterRepresentatives"
   ]
  },
  {
   "cell_type": "code",
   "execution_count": 16,
   "metadata": {},
   "outputs": [],
   "source": [
    "def clustering(features, clusterRepresentatives):\n",
    "\n",
    "    # Assignment Phase\n",
    "    # Assign cluster representative to each object (i.e., each row of features)\n",
    "    clusters = assign(features, clusterRepresentatives)\n",
    "\n",
    "\n",
    "    # Repeat till the termination criteria is met\n",
    "    while True:\n",
    "\n",
    "        # Optimisation Phase\n",
    "        # Compute new representative as mean of the current clusters\n",
    "        updatedclusterRepresentatives = optimise(features, clusters, clusterRepresentatives)\n",
    "\n",
    "        # Assignment Phase\n",
    "        # Assign cluster representative to each object (i.e., each row of features)\n",
    "        updatedClusters = assign(features, updatedclusterRepresentatives)\n",
    "\n",
    "        # Termination Criteria:\n",
    "        # Repeat till no object is assigned a new clusters\n",
    "        # That is, STOP when the older cluster and the updated cluster are equal\n",
    "        # REPEAT if the cluster assignment of each object stays same\n",
    "        if (clusters == updatedClusters).all():\n",
    "            break\n",
    "        else:\n",
    "            # Store the updated clusters for checking the termination criteria\n",
    "            # in the next loop\n",
    "            clusters = updatedClusters\n",
    "\n",
    "    return clusters, clusterRepresentatives"
   ]
  },
  {
   "cell_type": "code",
   "execution_count": 17,
   "metadata": {},
   "outputs": [],
   "source": [
    "def k_means_plus_plus(features, k):\n",
    "\n",
    "    # Initialisation Phase\n",
    "    np.random.seed(42)\n",
    "    initialRandomObject = np.random.choice(range(features.shape[0]), size=1)\n",
    "\n",
    "    # Initialise the initial representative matrix with zeros\n",
    "    initialRepresentatives = np.zeros((k, features.shape[1]))\n",
    "\n",
    "    # Choose the first initial cluster representatives as a randomly chosen objects from the dataset\n",
    "    initialRepresentatives[0] = features[initialRandomObject]\n",
    "\n",
    "    # Finding a new representative for each cluster\n",
    "    for i in range(1, k):\n",
    "        # Find the closest representative - This basically forms a cluster\n",
    "        # Following are the steps to choose closest representative\n",
    "            # Find distance of every object from each representative\n",
    "            # Assign the object to closest representative\n",
    "            # Store the distance from the closest representative only\n",
    "\n",
    "        # The distance from the closest representative shall be used for next step\n",
    "        # Choose next representative with probability proportional to\n",
    "        # distance squared\n",
    "        \n",
    "        # Form a cluster using the already chosen representatives\n",
    "        currentClusters = assign(features, initialRepresentatives[:i])\n",
    "        # distanceToRepresentative = np.zeros((len(features)))\n",
    "\n",
    "        distanceToClosestRepresentative = np.array([distance(features[i], initialRepresentatives[int(currentClusters[i])]) for i in range(len(currentClusters))])\n",
    "\n",
    "        rX_squared = np.square(distanceToClosestRepresentative)\n",
    "        sum_rX_squared = np.sum(rX_squared)\n",
    "        probabilityOfSelection = rX_squared / sum_rX_squared\n",
    "\n",
    "        nextRandomObject = np.random.choice(range(features.shape[0]), size=1, p=probabilityOfSelection)\n",
    "        initialRepresentatives[i] = features[nextRandomObject]\n",
    "    \n",
    "    \n",
    "    return clustering(features, initialRepresentatives)"
   ]
  },
  {
   "cell_type": "code",
   "execution_count": 18,
   "metadata": {},
   "outputs": [
    {
     "data": {
      "text/plain": [
       "(array([2., 2., 2., 2., 2., 2., 2., 2., 2., 2., 2., 2., 2., 2., 2., 2., 2.,\n",
       "        2., 2., 2., 2., 2., 2., 2., 2., 2., 2., 2., 2., 2., 2., 2., 2., 2.,\n",
       "        2., 2., 2., 2., 2., 2., 2., 2., 2., 2., 2., 2., 2., 2., 2., 2., 0.,\n",
       "        0., 0., 0., 0., 0., 0., 0., 0., 0., 0., 0., 0., 0., 0., 0., 0., 0.,\n",
       "        0., 0., 0., 0., 0., 0., 0., 0., 0., 0., 0., 0., 0., 0., 0., 0., 0.,\n",
       "        0., 3., 0., 3., 0., 0., 0., 0., 0., 0., 0., 0., 0., 0., 0., 0., 0.,\n",
       "        0., 0., 0., 0., 0., 0., 0., 0., 0., 0., 0., 0., 0., 0., 0., 0., 0.,\n",
       "        0., 0., 0., 0., 0., 0., 0., 0., 0., 0., 0., 0., 0., 0., 0., 0., 0.,\n",
       "        0., 0., 0., 0., 0., 0., 0., 0., 0., 0., 0., 0., 0., 0., 0., 0., 0.,\n",
       "        0., 0., 0., 0., 0., 0., 0., 0., 0., 0., 0., 0., 0., 0., 0., 0., 0.,\n",
       "        0., 0., 0., 0., 0., 0., 0., 0., 0., 0., 0., 0., 0., 0., 0., 0., 0.,\n",
       "        0., 0., 0., 0., 0., 0., 0., 0., 0., 0., 0., 0., 0., 0., 0., 0., 0.,\n",
       "        0., 0., 0., 0., 0., 0., 0., 3., 3., 1., 3., 3., 3., 3., 3., 3., 3.,\n",
       "        3., 3., 3., 3., 3., 1., 3., 3., 3., 3., 3., 3., 3., 3., 3., 3., 3.,\n",
       "        3., 3., 3., 3., 3., 3., 3., 3., 3., 1., 3., 3., 3., 3., 3., 3., 3.,\n",
       "        3., 3., 3., 3., 3., 3., 3., 1., 3., 3., 3., 3., 3., 3., 1., 3., 1.,\n",
       "        1., 1., 1., 1., 1., 1., 1., 1., 1., 1., 1., 3., 3., 1., 1., 1., 1.,\n",
       "        3., 1., 1., 1., 1., 3., 1., 3., 1., 1., 1., 1., 3., 1., 1., 1., 1.,\n",
       "        3., 1., 1., 1., 1., 1., 1., 1., 1., 3., 1., 1., 3., 1., 1., 1., 3.,\n",
       "        1., 3., 3., 1.]),\n",
       " array([[ 0.38913542,  0.31509036,  0.06140507, ...,  0.09207217,\n",
       "          0.12307212,  0.25067948],\n",
       "        [-0.12710884, -0.09975169, -0.05959411, ..., -0.09298869,\n",
       "         -0.22659251,  0.15635455],\n",
       "        [-0.06987299, -0.19928699, -0.27418934, ..., -0.19585634,\n",
       "          0.06561548,  0.19155839],\n",
       "        [-0.21307101, -0.09752155,  0.06773508, ..., -0.41373452,\n",
       "         -0.07619636,  0.05150248]]))"
      ]
     },
     "execution_count": 18,
     "metadata": {},
     "output_type": "execute_result"
    }
   ],
   "source": [
    "k_means_plus_plus(features, 4)"
   ]
  }
 ],
 "metadata": {
  "kernelspec": {
   "display_name": "Python 3",
   "language": "python",
   "name": "python3"
  },
  "language_info": {
   "codemirror_mode": {
    "name": "ipython",
    "version": 3
   },
   "file_extension": ".py",
   "mimetype": "text/x-python",
   "name": "python",
   "nbconvert_exporter": "python",
   "pygments_lexer": "ipython3",
   "version": "3.8.5"
  },
  "orig_nbformat": 4
 },
 "nbformat": 4,
 "nbformat_minor": 2
}
